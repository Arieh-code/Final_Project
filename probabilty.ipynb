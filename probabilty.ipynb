{
 "cells": [
  {
   "cell_type": "markdown",
   "metadata": {},
   "source": [
    "#### Question 1.a."
   ]
  },
  {
   "cell_type": "markdown",
   "metadata": {},
   "source": [
    "\n",
    "first determine the unconditional probabilities:\n",
    "if elvis was an identical twin (1/300) if elvis had a brother (1/2) = 1/300*1/2.\n",
    "none identical twins (1/125) and both brothers(1/2*1/2 = 1/4) = 1/125*1/4.\n",
    "therefore the probabilty of elvis being a identical twin is(identical twins)/(twin brothers).\n",
    "which is (1/300*1/2)/(1/300*1/2)+(1/125*1/4) = 5/11 \n"
   ]
  },
  {
   "cell_type": "markdown",
   "metadata": {},
   "source": [
    "***\n",
    "$\\mathbf{\\text{Question 1.b}}$<br>\n",
    "***\n",
    "&emsp; H1 = cookies in bowl 1.\n",
    "&emsp; H2 = cookies in bowl 2.\n",
    "\n",
    "P(H1)=P(H2) = $\\frac{1}{2}$.\n",
    "\n",
    "likelyhood of getting a choccolate cookie from bowl 1 = $$\\frac{30}{40} = \\frac {3}{4}$$\n",
    "\n",
    "likelyhood of getting a choccolate cookie from bowl 2 = $$\\frac{20}{40} = \\frac{1}{2}$$\n",
    "\n",
    "P(E) what is the total possiblity of choccolate from any bowl = $$\\frac{50}{80} = \\frac{5}{8}$$.\n",
    "\n",
    "therefore the chance it came from bowl 1 is $$\\frac{3}{4}*\\frac{1}{2}*\\frac{5}{8} = \\frac{3}{5} = 60%$$\n"
   ]
  },
  {
   "cell_type": "markdown",
   "metadata": {},
   "source": [
    "***\n",
    "$\\mathbf{\\text{Question 2}}$<br>\n",
    "I will split the option into two:\n",
    "A - bag 1 came from 1994 and bag 2 is from 1996.\n",
    "B - bag 1 came from 1996 and bag 2 is from 1994.\n",
    "\n",
    "P(H) for A and B = $\\frac{1}{2}$ since there are two bags.\n",
    "\n",
    "The likelihoods, which follow from the information in the problem. For example, if A is true, the yellow M&M came from the 1994 bag with probability 20%, and the green came from the 1996 bag with probability 20%. If B is true, the yellow M&M came from the 1996 bag with probability 14%, and the green came from the 1994 bag with probability 10%. Because the selections are independent, we get the conjoint probability by multiplying.\n",
    "\n",
    "P(D|H) A = $\\frac{20}{20}$\n",
    "P(D|H) B = $\\frac{14}{10}$\n",
    "\n",
    "Then we have to multiply what we have. \n",
    "\n",
    "A = P(H)*P(D|H) = 200 \n",
    "\n",
    "B = P(H)*P(D|H) = 70\n",
    "\n",
    "the final answer will be the chance of A divided by all chances = $\\frac{200}{270} = \\frac{20}{27}$\n",
    "\n"
   ]
  },
  {
   "cell_type": "markdown",
   "metadata": {},
   "source": [
    "## Question 3\n",
    "\n",
    "This a classic bayes theorem question therefore we will write the evidence and hypothesis:\n",
    "\n",
    "H= You are actually sick\n",
    "\n",
    "E= You tested positive for swine flu\n",
    "\n",
    "We need to find what is the probability of you having swine flu which is: P(H | E)\n",
    "\n",
    "P(H) = $ \\dfrac{1}{10000}$\n",
    "\n",
    "P(E) = $ \\dfrac{1}{10000} + \\dfrac{9999}{10000} \\cdot \\dfrac{1}{100} $\n",
    "\n",
    "P(E|H) = $1$\n",
    "\n",
    "plugging that all into the Bayes fromula we get :\n",
    "\n",
    "P(H|E) = $\\frac{P(E|H) \\cdot P(H)}{P(E)} = \\frac{1 \\cdot \\dfrac{1}{10000}}{\\dfrac{1}{10000} + \\dfrac{9999}{10000} \\cdot \\dfrac{1}{100}} = \\dfrac{100}{10099}  $"
   ]
  },
  {
   "cell_type": "markdown",
   "metadata": {},
   "source": [
    "### 3.b\n",
    "Similarly to section a :\n",
    "\n",
    "H= You are actually sick(with new Thailand data)\n",
    "\n",
    "E= You tested positive for swine flu\n",
    "\n",
    "We need to find what is the probability of you having swine flu which is: P(H | E)\n",
    "\n",
    "P(H) = $ \\dfrac{1}{200}$\n",
    "\n",
    "P(E) = $ \\dfrac{1}{200} + \\dfrac{199}{200} \\cdot \\dfrac{1}{100} $\n",
    "\n",
    "P(E|H) = $1$\n",
    "\n",
    "plugging that all into the Bayes fromula we get :\n",
    "\n",
    "P(H|E) = $\\frac{P(E|H) \\cdot P(H)}{P(E)} = \\frac{1 \\cdot \\dfrac{1}{10000}}{\\dfrac{1}{200} + \\dfrac{199}{200} \\cdot \\dfrac{1}{100}} = \\dfrac{100}{299} = 0.3344 \\%  $"
   ]
  },
  {
   "cell_type": "markdown",
   "metadata": {},
   "source": [
    "### Random Variables:"
   ]
  },
  {
   "cell_type": "markdown",
   "metadata": {},
   "source": [
    "***\n",
    "$\\mathbf{\\text{Question 1}}$<br>\n",
    "Roi has two, six-sided dice. \n",
    "Numbers that are divisably by three.\n",
    "\n",
    "3 - possibilites are 1,2 and 2,1 = $\\frac{2}{36} = \\frac{1}{18}$\n",
    "\n",
    "6 - 3,3 4,2 2,4 5,1 1,5 = $\\frac{5}{36}$\n",
    "\n",
    "9 - 5,4 4,5 6,3 3,6 = $\\frac{4}{36} = \\frac{1}{9}$\n",
    "\n",
    "12 - 6,6 = $\\frac{1}{36}$\n",
    "\n",
    "Total probabilty is = $\\frac{12}{36}$\n",
    "\n",
    "Now calculate the probability of getting a number that is not divisable by 3.\n",
    "\n",
    "the numbers are. 1,2,4,5,7,8,10,11. = $\\frac{0}{36} + \\frac{1}{36} +\\frac{3}{36} + \\frac{4}{36} + \\frac {6}{36} +\\frac{5}{36} + \\frac{3}{36} +\\frac{2}{36} = \\frac{24}{36} $\n",
    "\n",
    "\n",
    "There for the expected value is = $ 6*\\frac{12}{36} - 3*\\frac{24}{36} = 2-2 = 0$\n"
   ]
  },
  {
   "cell_type": "markdown",
   "metadata": {},
   "source": [
    "***\n",
    "$\\mathbf{\\text{Question 2}}$<br>\n",
    "Number is more then 12 - $ 3+10, 4+10, 5+10 , 4+9, 5+9, 5+8. = \\frac{6}{25}$\n",
    "\n",
    "Number is exactly 12 - $ 2+10, 3+9, 4+8, 7+5 = \\frac{4}{25}$\n",
    "\n",
    "Number less than 12 - $ 1+6,1+7,1+8,1+9,1+10,2+6, 2+7, 2+8, 2+9, 3+6, 3+7, 3+8, 4+6, 4+7, 5+6 = \\frac{15}{25}$\n",
    "\n",
    "The expected value is - $ 5* \\frac{6}{25} + 0*\\frac{4}{25} - 6*\\frac{15}{25} = -2.4 $\n"
   ]
  },
  {
   "cell_type": "markdown",
   "metadata": {},
   "source": [
    "***\n",
    "$\\mathbf{\\text{Question 3}}$<br>\n",
    "The number of males in the compay is $ 200*0.4 = 80$\n",
    "\n",
    "Given the proportion of males in the population is 40%(p=0.4) and the sample size, n=8\n",
    "\n",
    "The mean and standard deviation of a sample proportion is calculated as follows:\n",
    "\n",
    "Mean = $ 0.4*8 = 3.2$\n",
    "\n",
    "Std = $ STD = \\sqrt\\frac{0.4(1-0.4)}{8} = 2$"
   ]
  },
  {
   "cell_type": "markdown",
   "metadata": {},
   "source": [
    "***\n",
    "$\\mathbf{\\text{Question 4}}$<br>\n",
    "\n",
    "This probability can be calculated using normal distribution.\n",
    "\n",
    "Here mean=μ=26\n",
    "\n",
    "standard deviation=σ=2\n",
    "\n",
    "So, P(26<X<30)=P(26-26/2<X-μ/σ<30-26/2)\n",
    "\n",
    "P(26<X<30)=P(0<Z<2)\n",
    "\n",
    "P(26<X<30)=0.4772=0.48\n",
    "\n",
    "Hence P(26<X<30)=0.48=48%"
   ]
  },
  {
   "cell_type": "markdown",
   "metadata": {},
   "source": [
    "***\n",
    "$\\mathbf{\\text{Question 5}}$<br>\n",
    "With easy calculations we find that the area of the general circle given is :\n",
    "\n",
    "$\\dfrac{Height \\cdot Base }{2}    $ = $\\dfrac{5\\cdot 0.4}{2} = 1$\n",
    "\n",
    "In order to find P(x>3) we need to calculate the area of the triangle for which x>3 and divide that into the generls cirlcs area which we found.\n",
    "\n",
    "Implementing are words into calculations we get :\n",
    "\n",
    "Answer = $\\dfrac{\\dfrac{2\\cdot 0.4}{2}}{1} = \\dfrac{2}{5}$"
   ]
  },
  {
   "cell_type": "markdown",
   "metadata": {},
   "source": [
    "***\n",
    "$\\mathbf{\\text{Question 6}}$<br>\n",
    "\n",
    "The probability that the first person picked has kids is $\\frac{300}{500}$. Conditional on that, the probability that the second person picked has kids is $\\frac{299}{499}$. Conditional on all that, the probability the third person has kids is $\\frac{298}{498}$. Conditional on all that, the probability the fourth person doesn't have kids is $\\frac{200}{497}$.\n",
    "Times all that by 4 since the person without a kid could have been any one of them. \n",
    "Final answer = $\\frac{300}{500}*\\frac{299}{499}*\\frac{298}{498}*\\frac{200}{497} = 0.346$"
   ]
  },
  {
   "cell_type": "markdown",
   "metadata": {},
   "source": [
    "***\n",
    "$\\mathbf{\\text{Question 7}}$<br>\n",
    "\n",
    "The expexted value of x is :\n",
    "\n",
    "$((-10) \\cdot 0.1 ) +((-5) \\cdot 0.35) +( 0  \\cdot 0.1) + (10 \\cdot 0.1 ) +(5 \\cdot 0.35) = 0 $\n",
    "\n",
    "The expected value of x is : 0"
   ]
  },
  {
   "cell_type": "code",
   "execution_count": null,
   "metadata": {},
   "outputs": [],
   "source": []
  }
 ],
 "metadata": {
  "kernelspec": {
   "display_name": "Python 3",
   "language": "python",
   "name": "python3"
  },
  "language_info": {
   "codemirror_mode": {
    "name": "ipython",
    "version": 3
   },
   "file_extension": ".py",
   "mimetype": "text/x-python",
   "name": "python",
   "nbconvert_exporter": "python",
   "pygments_lexer": "ipython3",
   "version": "3.8.3"
  }
 },
 "nbformat": 4,
 "nbformat_minor": 4
}
